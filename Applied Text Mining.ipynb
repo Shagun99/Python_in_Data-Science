{
 "cells": [
  {
   "cell_type": "markdown",
   "metadata": {},
   "source": [
    "# Applied Text Mining"
   ]
  },
  {
   "cell_type": "markdown",
   "metadata": {},
   "source": [
    "#### Submitted By:\n",
    "    Shagun Bhardwaj (18csu202)"
   ]
  },
  {
   "cell_type": "markdown",
   "metadata": {},
   "source": [
    "### Objective\n",
    "- To understand basics of Text Mining and perform sentiment analysis using NLTK"
   ]
  },
  {
   "cell_type": "markdown",
   "metadata": {},
   "source": [
    "### Overview of Text Mining"
   ]
  },
  {
   "cell_type": "code",
   "execution_count": 1,
   "metadata": {},
   "outputs": [],
   "source": [
    "# Importing the libraries\n",
    "import pandas as pd\n",
    "import numpy as np\n",
    "import nltk\n",
    "import nltk.corpus\n",
    "import matplotlib.pyplot as plt"
   ]
  },
  {
   "cell_type": "markdown",
   "metadata": {},
   "source": [
    "### Sample Data"
   ]
  },
  {
   "cell_type": "code",
   "execution_count": 2,
   "metadata": {},
   "outputs": [
    {
     "name": "stdout",
     "output_type": "stream",
     "text": [
      "Education is an important tool which is very useful in everybody’s life. Education is what differentiates us from other living beings on earth. It makes man the smartest creature on earth. It empowers humans and gets them ready to face challenges of life efficiently. With that being said, education still remains a luxury and not a necessity in our country. Educational awareness needs to be spread through the country to make education accessible. But, this remains incomplete without first analyzing the importance of education. Only when the people realize what significance it holds, can they consider it a necessity for a good life.\n"
     ]
    }
   ],
   "source": [
    "text = \"Education is an important tool which is very useful in everybody’s life. Education is what differentiates us from other living beings on earth. It makes man the smartest creature on earth. It empowers humans and gets them ready to face challenges of life efficiently. With that being said, education still remains a luxury and not a necessity in our country. Educational awareness needs to be spread through the country to make education accessible. But, this remains incomplete without first analyzing the importance of education. Only when the people realize what significance it holds, can they consider it a necessity for a good life.\"\n",
    "print(text)"
   ]
  },
  {
   "cell_type": "markdown",
   "metadata": {},
   "source": [
    "### Tokenization\n",
    "Tokenization is the first step in text analytics. The process of breaking down a text paragraph into smaller chunks such as words or sentence is called Tokenization. Token is a single entity that is building blocks for sentence or paragraph."
   ]
  },
  {
   "cell_type": "markdown",
   "metadata": {},
   "source": [
    "### Sentence Tokenization\n",
    "Sentence tokenizer breaks text paragraph into sentences."
   ]
  },
  {
   "cell_type": "code",
   "execution_count": 3,
   "metadata": {},
   "outputs": [],
   "source": [
    "from nltk.tokenize import sent_tokenize"
   ]
  },
  {
   "cell_type": "code",
   "execution_count": 4,
   "metadata": {},
   "outputs": [
    {
     "name": "stdout",
     "output_type": "stream",
     "text": [
      "['Education is an important tool which is very useful in everybody’s life.', 'Education is what differentiates us from other living beings on earth.', 'It makes man the smartest creature on earth.', 'It empowers humans and gets them ready to face challenges of life efficiently.', 'With that being said, education still remains a luxury and not a necessity in our country.', 'Educational awareness needs to be spread through the country to make education accessible.', 'But, this remains incomplete without first analyzing the importance of education.', 'Only when the people realize what significance it holds, can they consider it a necessity for a good life.']\n"
     ]
    }
   ],
   "source": [
    "tokenized_text=sent_tokenize(text)\n",
    "print(tokenized_text)"
   ]
  },
  {
   "cell_type": "markdown",
   "metadata": {},
   "source": [
    "### Word Tokenization\n",
    "Word tokenizer breaks text paragraph into words."
   ]
  },
  {
   "cell_type": "code",
   "execution_count": 5,
   "metadata": {},
   "outputs": [],
   "source": [
    "from nltk.tokenize import word_tokenize"
   ]
  },
  {
   "cell_type": "code",
   "execution_count": 6,
   "metadata": {},
   "outputs": [
    {
     "name": "stdout",
     "output_type": "stream",
     "text": [
      "['Education', 'is', 'an', 'important', 'tool', 'which', 'is', 'very', 'useful', 'in', 'everybody', '’', 's', 'life', '.', 'Education', 'is', 'what', 'differentiates', 'us', 'from', 'other', 'living', 'beings', 'on', 'earth', '.', 'It', 'makes', 'man', 'the', 'smartest', 'creature', 'on', 'earth', '.', 'It', 'empowers', 'humans', 'and', 'gets', 'them', 'ready', 'to', 'face', 'challenges', 'of', 'life', 'efficiently', '.', 'With', 'that', 'being', 'said', ',', 'education', 'still', 'remains', 'a', 'luxury', 'and', 'not', 'a', 'necessity', 'in', 'our', 'country', '.', 'Educational', 'awareness', 'needs', 'to', 'be', 'spread', 'through', 'the', 'country', 'to', 'make', 'education', 'accessible', '.', 'But', ',', 'this', 'remains', 'incomplete', 'without', 'first', 'analyzing', 'the', 'importance', 'of', 'education', '.', 'Only', 'when', 'the', 'people', 'realize', 'what', 'significance', 'it', 'holds', ',', 'can', 'they', 'consider', 'it', 'a', 'necessity', 'for', 'a', 'good', 'life', '.']\n"
     ]
    }
   ],
   "source": [
    "tokenized_word=word_tokenize(text)\n",
    "print(tokenized_word)"
   ]
  },
  {
   "cell_type": "markdown",
   "metadata": {},
   "source": [
    "### Frequency Distribution"
   ]
  },
  {
   "cell_type": "code",
   "execution_count": 7,
   "metadata": {},
   "outputs": [],
   "source": [
    "from nltk.probability import FreqDist"
   ]
  },
  {
   "cell_type": "code",
   "execution_count": 8,
   "metadata": {},
   "outputs": [
    {
     "name": "stdout",
     "output_type": "stream",
     "text": [
      "<FreqDist with 81 samples and 116 outcomes>\n"
     ]
    }
   ],
   "source": [
    "fdist = FreqDist(tokenized_word)\n",
    "print(fdist)"
   ]
  },
  {
   "cell_type": "code",
   "execution_count": 9,
   "metadata": {},
   "outputs": [
    {
     "data": {
      "text/plain": [
       "[('.', 8), ('the', 4)]"
      ]
     },
     "execution_count": 9,
     "metadata": {},
     "output_type": "execute_result"
    }
   ],
   "source": [
    "fdist.most_common(2)"
   ]
  },
  {
   "cell_type": "code",
   "execution_count": 10,
   "metadata": {},
   "outputs": [
    {
     "data": {
      "image/png": "[encoded data removed]",
      "text/plain": [
       "<Figure size 432x288 with 1 Axes>"
      ]
     },
     "metadata": {
      "needs_background": "light"
     },
     "output_type": "display_data"
    }
   ],
   "source": [
    "# Frequency Distribution Plot\n",
    "import matplotlib.pyplot as plt\n",
    "fdist.plot(30,cumulative=False)\n",
    "plt.show()"
   ]
  },
  {
   "cell_type": "markdown",
   "metadata": {},
   "source": [
    "### Stopwords\n",
    "Stopwords are considered as noise in the text. Text may contain stop words such as is, am, are, this, a, an, the, etc.\n",
    "In NLTK for removing stopwords, a list of stopwords is created and tokens are filtered out based on list of these words."
   ]
  },
  {
   "cell_type": "code",
   "execution_count": 11,
   "metadata": {},
   "outputs": [],
   "source": [
    "from nltk.corpus import stopwords\n",
    "import string"
   ]
  },
  {
   "cell_type": "code",
   "execution_count": 12,
   "metadata": {},
   "outputs": [
    {
     "name": "stdout",
     "output_type": "stream",
     "text": [
      "{\"aren't\", 'i', 'below', 'having', 'didn', \"you've\", 'this', 'that', 'weren', 'more', 'then', 'again', 'are', 'any', 'such', 'it', 'by', 'wouldn', \"it's\", 'an', 'about', 'is', 'each', 'down', 'be', 've', 'had', \"shouldn't\", 'her', \"couldn't\", 'who', 'above', 'same', \"haven't\", 'hadn', \"you'll\", 'yourselves', 'your', 'other', 'doing', 'our', 'for', 'once', 'nor', 'will', 'where', 'those', 'from', 'while', 'couldn', 'some', 's', 'out', 'don', 'doesn', 'yourself', \"isn't\", 'wasn', 'himself', 'o', 'them', \"shan't\", 'aren', 'only', \"you're\", 'ours', \"don't\", 'his', \"hasn't\", \"she's\", \"hadn't\", 'you', \"should've\", 'been', 'under', \"needn't\", 'hers', 'shouldn', \"mightn't\", 'was', 'mightn', 'am', 'very', 'their', 'with', 'off', 'these', 'if', 'to', 'most', 'me', 'until', 'but', 'there', 'being', \"didn't\", 'when', \"weren't\", 'after', 'themselves', 'a', 'have', 'as', 'or', 'and', 'its', 'few', 't', 'hasn', 'myself', 'haven', 'so', 'herself', 'did', 'how', 'of', 'both', 'y', 'ain', 'why', 'yours', 'isn', 'won', 'mustn', 'itself', 'whom', 'against', 'on', 'ma', 'theirs', 'does', 'my', 'here', 'we', 'up', 'own', 'she', 'which', 'm', 'at', \"doesn't\", 'd', \"wasn't\", \"you'd\", 'before', 'shan', 'no', 'ourselves', 'than', 'all', 'has', 'the', 'they', 'what', 'because', 'during', 'now', 'into', 'him', 'through', 'over', 'too', \"won't\", 'do', \"wouldn't\", 'should', 'just', 'in', \"mustn't\", 'needn', 'll', 'between', 'not', \"that'll\", 'further', 'can', 'were', 're', 'he'}\n"
     ]
    }
   ],
   "source": [
    "stop_words=set(stopwords.words(\"english\"))\n",
    "print(stop_words)"
   ]
  },
  {
   "cell_type": "code",
   "execution_count": 13,
   "metadata": {},
   "outputs": [
    {
     "name": "stdout",
     "output_type": "stream",
     "text": [
      "Tokenized Sentence:\n",
      " ['Education', 'is', 'an', 'important', 'tool', 'which', 'is', 'very', 'useful', 'in', 'everybody', '’', 's', 'life', '.', 'Education', 'is', 'what', 'differentiates', 'us', 'from', 'other', 'living', 'beings', 'on', 'earth', '.', 'It', 'makes', 'man', 'the', 'smartest', 'creature', 'on', 'earth', '.', 'It', 'empowers', 'humans', 'and', 'gets', 'them', 'ready', 'to', 'face', 'challenges', 'of', 'life', 'efficiently', '.', 'With', 'that', 'being', 'said', ',', 'education', 'still', 'remains', 'a', 'luxury', 'and', 'not', 'a', 'necessity', 'in', 'our', 'country', '.', 'Educational', 'awareness', 'needs', 'to', 'be', 'spread', 'through', 'the', 'country', 'to', 'make', 'education', 'accessible', '.', 'But', ',', 'this', 'remains', 'incomplete', 'without', 'first', 'analyzing', 'the', 'importance', 'of', 'education', '.', 'Only', 'when', 'the', 'people', 'realize', 'what', 'significance', 'it', 'holds', ',', 'can', 'they', 'consider', 'it', 'a', 'necessity', 'for', 'a', 'good', 'life', '.']\n",
      "\n",
      "Filterd Sentence:\n",
      " ['Education', 'important', 'tool', 'useful', 'everybody', '’', 'life', '.', 'Education', 'differentiates', 'us', 'living', 'beings', 'earth', '.', 'It', 'makes', 'man', 'smartest', 'creature', 'earth', '.', 'It', 'empowers', 'humans', 'gets', 'ready', 'face', 'challenges', 'life', 'efficiently', '.', 'With', 'said', ',', 'education', 'still', 'remains', 'luxury', 'necessity', 'country', '.', 'Educational', 'awareness', 'needs', 'spread', 'country', 'make', 'education', 'accessible', '.', 'But', ',', 'remains', 'incomplete', 'without', 'first', 'analyzing', 'importance', 'education', '.', 'Only', 'people', 'realize', 'significance', 'holds', ',', 'consider', 'necessity', 'good', 'life', '.']\n"
     ]
    }
   ],
   "source": [
    "# Removing stopwords\n",
    "filtered_sent=[]\n",
    "for w in tokenized_word:\n",
    "    if w not in stop_words:\n",
    "        filtered_sent.append(w)\n",
    "print(\"Tokenized Sentence:\\n\",tokenized_word)\n",
    "print(\"\\nFilterd Sentence:\\n\",filtered_sent)"
   ]
  },
  {
   "cell_type": "markdown",
   "metadata": {},
   "source": [
    "### Normalization\n",
    "Normalization considers another type of noise in the text. For example, lists, listed, listing words reduce to a common word \"list\". It reduces derivationally related forms of a word to a common root word."
   ]
  },
  {
   "cell_type": "markdown",
   "metadata": {},
   "source": [
    "#### Stemming\n",
    "Stemming is a process of linguistic normalization, which reduces words to their word root word or chops off the derivational affixes."
   ]
  },
  {
   "cell_type": "code",
   "execution_count": 14,
   "metadata": {},
   "outputs": [],
   "source": [
    "from nltk.stem import PorterStemmer\n",
    "from nltk.tokenize import sent_tokenize, word_tokenize"
   ]
  },
  {
   "cell_type": "code",
   "execution_count": 15,
   "metadata": {},
   "outputs": [],
   "source": [
    "stem = PorterStemmer()"
   ]
  },
  {
   "cell_type": "code",
   "execution_count": 17,
   "metadata": {},
   "outputs": [
    {
     "name": "stdout",
     "output_type": "stream",
     "text": [
      "Filtered Sentence:\n",
      " ['Education', 'is', 'an', 'important', 'tool', 'which', 'is', 'very', 'useful', 'in', 'everybody', '’', 's', 'life', '.', 'Education', 'is', 'what', 'differentiates', 'us', 'from', 'other', 'living', 'beings', 'on', 'earth', '.', 'It', 'makes', 'man', 'the', 'smartest', 'creature', 'on', 'earth', '.', 'It', 'empowers', 'humans', 'and', 'gets', 'them', 'ready', 'to', 'face', 'challenges', 'of', 'life', 'efficiently', '.', 'With', 'that', 'being', 'said', ',', 'education', 'still', 'remains', 'a', 'luxury', 'and', 'not', 'a', 'necessity', 'in', 'our', 'country', '.', 'Educational', 'awareness', 'needs', 'to', 'be', 'spread', 'through', 'the', 'country', 'to', 'make', 'education', 'accessible', '.', 'But', ',', 'this', 'remains', 'incomplete', 'without', 'first', 'analyzing', 'the', 'importance', 'of', 'education', '.', 'Only', 'when', 'the', 'people', 'realize', 'what', 'significance', 'it', 'holds', ',', 'can', 'they', 'consider', 'it', 'a', 'necessity', 'for', 'a', 'good', 'life', '.']\n",
      "\n",
      "Stemmed Sentence:\n",
      " ['educ', 'is', 'an', 'import', 'tool', 'which', 'is', 'veri', 'use', 'in', 'everybodi', '’', 's', 'life', '.', 'educ', 'is', 'what', 'differenti', 'us', 'from', 'other', 'live', 'be', 'on', 'earth', '.', 'It', 'make', 'man', 'the', 'smartest', 'creatur', 'on', 'earth', '.', 'It', 'empow', 'human', 'and', 'get', 'them', 'readi', 'to', 'face', 'challeng', 'of', 'life', 'effici', '.', 'with', 'that', 'be', 'said', ',', 'educ', 'still', 'remain', 'a', 'luxuri', 'and', 'not', 'a', 'necess', 'in', 'our', 'countri', '.', 'educ', 'awar', 'need', 'to', 'be', 'spread', 'through', 'the', 'countri', 'to', 'make', 'educ', 'access', '.', 'but', ',', 'thi', 'remain', 'incomplet', 'without', 'first', 'analyz', 'the', 'import', 'of', 'educ', '.', 'onli', 'when', 'the', 'peopl', 'realiz', 'what', 'signific', 'it', 'hold', ',', 'can', 'they', 'consid', 'it', 'a', 'necess', 'for', 'a', 'good', 'life', '.']\n"
     ]
    }
   ],
   "source": [
    "stemmed_words=[]\n",
    "for w in tokenized_word:\n",
    "    stemmed_words.append(stem.stem(w))\n",
    "\n",
    "print(\"Filtered Sentence:\\n\",tokenized_word)\n",
    "print(\"\\nStemmed Sentence:\\n\",stemmed_words)"
   ]
  },
  {
   "cell_type": "markdown",
   "metadata": {},
   "source": [
    "#### Lemmatization\n",
    "Lemmatization reduces words to their base word, which is linguistically correct lemmas. It transforms root word with the use of vocabulary and morphological analysis."
   ]
  },
  {
   "cell_type": "code",
   "execution_count": 18,
   "metadata": {},
   "outputs": [],
   "source": [
    "from nltk.stem.wordnet import WordNetLemmatizer\n",
    "lem = WordNetLemmatizer()"
   ]
  },
  {
   "cell_type": "code",
   "execution_count": 19,
   "metadata": {},
   "outputs": [
    {
     "name": "stdout",
     "output_type": "stream",
     "text": [
      "Filtered Sentence:\n",
      " ['Education', 'important', 'tool', 'useful', 'everybody', '’', 'life', '.', 'Education', 'differentiates', 'us', 'living', 'beings', 'earth', '.', 'It', 'makes', 'man', 'smartest', 'creature', 'earth', '.', 'It', 'empowers', 'humans', 'gets', 'ready', 'face', 'challenges', 'life', 'efficiently', '.', 'With', 'said', ',', 'education', 'still', 'remains', 'luxury', 'necessity', 'country', '.', 'Educational', 'awareness', 'needs', 'spread', 'country', 'make', 'education', 'accessible', '.', 'But', ',', 'remains', 'incomplete', 'without', 'first', 'analyzing', 'importance', 'education', '.', 'Only', 'people', 'realize', 'significance', 'holds', ',', 'consider', 'necessity', 'good', 'life', '.']\n",
      "\n",
      "Lemmatized Sentence:\n",
      " ['Education', 'important', 'tool', 'useful', 'everybody', '’', 'life', '.', 'Education', 'differentiates', 'u', 'living', 'being', 'earth', '.', 'It', 'make', 'man', 'smartest', 'creature', 'earth', '.', 'It', 'empowers', 'human', 'get', 'ready', 'face', 'challenge', 'life', 'efficiently', '.', 'With', 'said', ',', 'education', 'still', 'remains', 'luxury', 'necessity', 'country', '.', 'Educational', 'awareness', 'need', 'spread', 'country', 'make', 'education', 'accessible', '.', 'But', ',', 'remains', 'incomplete', 'without', 'first', 'analyzing', 'importance', 'education', '.', 'Only', 'people', 'realize', 'significance', 'hold', ',', 'consider', 'necessity', 'good', 'life', '.']\n"
     ]
    }
   ],
   "source": [
    "lemmatized_words=[]\n",
    "for w in filtered_sent:\n",
    "    lemmatized_words.append(lem.lemmatize(w))\n",
    "\n",
    "print(\"Filtered Sentence:\\n\",filtered_sent)\n",
    "print(\"\\nLemmatized Sentence:\\n\",lemmatized_words)"
   ]
  },
  {
   "cell_type": "markdown",
   "metadata": {},
   "source": [
    "#### POS Tagging\n",
    "The primary target of Part-of-Speech(POS) tagging is to identify the grammatical group of a given word. Whether it is a NOUN, PRONOUN, ADJECTIVE, VERB, ADVERBS, etc."
   ]
  },
  {
   "cell_type": "code",
   "execution_count": 20,
   "metadata": {},
   "outputs": [
    {
     "data": {
      "text/plain": [
       "[('Education', 'NN'),\n",
       " ('is', 'VBZ'),\n",
       " ('an', 'DT'),\n",
       " ('important', 'JJ'),\n",
       " ('tool', 'NN'),\n",
       " ('which', 'WDT'),\n",
       " ('is', 'VBZ'),\n",
       " ('very', 'RB'),\n",
       " ('useful', 'JJ'),\n",
       " ('in', 'IN'),\n",
       " ('everybody', 'NN'),\n",
       " ('’', 'NNP'),\n",
       " ('s', 'JJ'),\n",
       " ('life', 'NN'),\n",
       " ('.', '.'),\n",
       " ('Education', 'NN'),\n",
       " ('is', 'VBZ'),\n",
       " ('what', 'WP'),\n",
       " ('differentiates', 'VBZ'),\n",
       " ('us', 'PRP'),\n",
       " ('from', 'IN'),\n",
       " ('other', 'JJ'),\n",
       " ('living', 'VBG'),\n",
       " ('beings', 'NNS'),\n",
       " ('on', 'IN'),\n",
       " ('earth', 'NN'),\n",
       " ('.', '.'),\n",
       " ('It', 'PRP'),\n",
       " ('makes', 'VBZ'),\n",
       " ('man', 'NN'),\n",
       " ('the', 'DT'),\n",
       " ('smartest', 'JJS'),\n",
       " ('creature', 'NN'),\n",
       " ('on', 'IN'),\n",
       " ('earth', 'NN'),\n",
       " ('.', '.'),\n",
       " ('It', 'PRP'),\n",
       " ('empowers', 'VBZ'),\n",
       " ('humans', 'NNS'),\n",
       " ('and', 'CC'),\n",
       " ('gets', 'VBZ'),\n",
       " ('them', 'PRP'),\n",
       " ('ready', 'JJ'),\n",
       " ('to', 'TO'),\n",
       " ('face', 'VB'),\n",
       " ('challenges', 'NNS'),\n",
       " ('of', 'IN'),\n",
       " ('life', 'NN'),\n",
       " ('efficiently', 'RB'),\n",
       " ('.', '.'),\n",
       " ('With', 'IN'),\n",
       " ('that', 'DT'),\n",
       " ('being', 'VBG'),\n",
       " ('said', 'VBD'),\n",
       " (',', ','),\n",
       " ('education', 'NN'),\n",
       " ('still', 'RB'),\n",
       " ('remains', 'VBZ'),\n",
       " ('a', 'DT'),\n",
       " ('luxury', 'NN'),\n",
       " ('and', 'CC'),\n",
       " ('not', 'RB'),\n",
       " ('a', 'DT'),\n",
       " ('necessity', 'NN'),\n",
       " ('in', 'IN'),\n",
       " ('our', 'PRP$'),\n",
       " ('country', 'NN'),\n",
       " ('.', '.'),\n",
       " ('Educational', 'JJ'),\n",
       " ('awareness', 'NN'),\n",
       " ('needs', 'NNS'),\n",
       " ('to', 'TO'),\n",
       " ('be', 'VB'),\n",
       " ('spread', 'VBN'),\n",
       " ('through', 'IN'),\n",
       " ('the', 'DT'),\n",
       " ('country', 'NN'),\n",
       " ('to', 'TO'),\n",
       " ('make', 'VB'),\n",
       " ('education', 'NN'),\n",
       " ('accessible', 'JJ'),\n",
       " ('.', '.'),\n",
       " ('But', 'CC'),\n",
       " (',', ','),\n",
       " ('this', 'DT'),\n",
       " ('remains', 'VBZ'),\n",
       " ('incomplete', 'JJ'),\n",
       " ('without', 'IN'),\n",
       " ('first', 'JJ'),\n",
       " ('analyzing', 'VBG'),\n",
       " ('the', 'DT'),\n",
       " ('importance', 'NN'),\n",
       " ('of', 'IN'),\n",
       " ('education', 'NN'),\n",
       " ('.', '.'),\n",
       " ('Only', 'RB'),\n",
       " ('when', 'WRB'),\n",
       " ('the', 'DT'),\n",
       " ('people', 'NNS'),\n",
       " ('realize', 'VBP'),\n",
       " ('what', 'WP'),\n",
       " ('significance', 'NN'),\n",
       " ('it', 'PRP'),\n",
       " ('holds', 'VBZ'),\n",
       " (',', ','),\n",
       " ('can', 'MD'),\n",
       " ('they', 'PRP'),\n",
       " ('consider', 'VB'),\n",
       " ('it', 'PRP'),\n",
       " ('a', 'DT'),\n",
       " ('necessity', 'NN'),\n",
       " ('for', 'IN'),\n",
       " ('a', 'DT'),\n",
       " ('good', 'JJ'),\n",
       " ('life', 'NN'),\n",
       " ('.', '.')]"
      ]
     },
     "execution_count": 20,
     "metadata": {},
     "output_type": "execute_result"
    }
   ],
   "source": [
    "nltk.pos_tag(tokenized_word)"
   ]
  },
  {
   "cell_type": "markdown",
   "metadata": {},
   "source": [
    "## Sentiment Analysis\n",
    "\n",
    "In today's competitive world, it is important to analyze sentiments to gain useful insight from the data.\n",
    "\n",
    "Quantifying users content, idea, belief, and opinion is known as sentiment analysis. User's online post, blogs, tweets, feedback of product helps business people to the target audience and innovate in products and services. Sentiment analysis helps in understanding people in a better and more accurate way. It is not only limited to marketing, but it can also be utilized in politics, research, security etc."
   ]
  },
  {
   "cell_type": "markdown",
   "metadata": {},
   "source": [
    "### About the dataset\n",
    "Dataset Source: https://www.kaggle.com/harmanpreet93/hotelreviews\n",
    "\n",
    "Dataset is from one of the leading travel site containing hotel reviews provided by customers. The dataset contains 38932 review comments made by hotel customers and each review has a response associated to it. There are 5 columns: User_ID,\tDescription,\tBrowser_Used,\tDevice_Used and\tIs_Response.\n",
    "\n",
    "The data set is used for the task of Sentiment Analysis."
   ]
  },
  {
   "cell_type": "code",
   "execution_count": 21,
   "metadata": {},
   "outputs": [],
   "source": [
    "# Loading dataset containing reviews\n",
    "data = pd.read_csv('hotel-reviews.csv')"
   ]
  },
  {
   "cell_type": "code",
   "execution_count": 22,
   "metadata": {},
   "outputs": [
    {
     "data": {
      "text/html": [
       "<div>\n",
       "<style scoped>\n",
       "    .dataframe tbody tr th:only-of-type {\n",
       "        vertical-align: middle;\n",
       "    }\n",
       "\n",
       "    .dataframe tbody tr th {\n",
       "        vertical-align: top;\n",
       "    }\n",
       "\n",
       "    .dataframe thead th {\n",
       "        text-align: right;\n",
       "    }\n",
       "</style>\n",
       "<table border=\"1\" class=\"dataframe\">\n",
       "  <thead>\n",
       "    <tr style=\"text-align: right;\">\n",
       "      <th></th>\n",
       "      <th>User_ID</th>\n",
       "      <th>Description</th>\n",
       "      <th>Browser_Used</th>\n",
       "      <th>Device_Used</th>\n",
       "      <th>Is_Response</th>\n",
       "    </tr>\n",
       "  </thead>\n",
       "  <tbody>\n",
       "    <tr>\n",
       "      <th>0</th>\n",
       "      <td>id10326</td>\n",
       "      <td>The room was kind of clean but had a VERY stro...</td>\n",
       "      <td>Edge</td>\n",
       "      <td>Mobile</td>\n",
       "      <td>not happy</td>\n",
       "    </tr>\n",
       "    <tr>\n",
       "      <th>1</th>\n",
       "      <td>id10327</td>\n",
       "      <td>I stayed at the Crown Plaza April -- - April -...</td>\n",
       "      <td>Internet Explorer</td>\n",
       "      <td>Mobile</td>\n",
       "      <td>not happy</td>\n",
       "    </tr>\n",
       "    <tr>\n",
       "      <th>2</th>\n",
       "      <td>id10328</td>\n",
       "      <td>I booked this hotel through Hotwire at the low...</td>\n",
       "      <td>Mozilla</td>\n",
       "      <td>Tablet</td>\n",
       "      <td>not happy</td>\n",
       "    </tr>\n",
       "    <tr>\n",
       "      <th>3</th>\n",
       "      <td>id10329</td>\n",
       "      <td>Stayed here with husband and sons on the way t...</td>\n",
       "      <td>InternetExplorer</td>\n",
       "      <td>Desktop</td>\n",
       "      <td>happy</td>\n",
       "    </tr>\n",
       "    <tr>\n",
       "      <th>4</th>\n",
       "      <td>id10330</td>\n",
       "      <td>My girlfriends and I stayed here to celebrate ...</td>\n",
       "      <td>Edge</td>\n",
       "      <td>Tablet</td>\n",
       "      <td>not happy</td>\n",
       "    </tr>\n",
       "    <tr>\n",
       "      <th>5</th>\n",
       "      <td>id10331</td>\n",
       "      <td>We had - rooms. One was very nice and clearly ...</td>\n",
       "      <td>InternetExplorer</td>\n",
       "      <td>Desktop</td>\n",
       "      <td>happy</td>\n",
       "    </tr>\n",
       "    <tr>\n",
       "      <th>6</th>\n",
       "      <td>id10332</td>\n",
       "      <td>My husband and I have stayed in this hotel a f...</td>\n",
       "      <td>Firefox</td>\n",
       "      <td>Tablet</td>\n",
       "      <td>not happy</td>\n",
       "    </tr>\n",
       "    <tr>\n",
       "      <th>7</th>\n",
       "      <td>id10333</td>\n",
       "      <td>My wife &amp; I stayed in this glorious city a whi...</td>\n",
       "      <td>Google Chrome</td>\n",
       "      <td>Mobile</td>\n",
       "      <td>happy</td>\n",
       "    </tr>\n",
       "    <tr>\n",
       "      <th>8</th>\n",
       "      <td>id10334</td>\n",
       "      <td>My boyfriend and I stayed at the Fairmont on a...</td>\n",
       "      <td>Internet Explorer</td>\n",
       "      <td>Desktop</td>\n",
       "      <td>happy</td>\n",
       "    </tr>\n",
       "    <tr>\n",
       "      <th>9</th>\n",
       "      <td>id10335</td>\n",
       "      <td>Wonderful staff, great location, but it was de...</td>\n",
       "      <td>Chrome</td>\n",
       "      <td>Tablet</td>\n",
       "      <td>not happy</td>\n",
       "    </tr>\n",
       "  </tbody>\n",
       "</table>\n",
       "</div>"
      ],
      "text/plain": [
       "   User_ID                                        Description  \\\n",
       "0  id10326  The room was kind of clean but had a VERY stro...   \n",
       "1  id10327  I stayed at the Crown Plaza April -- - April -...   \n",
       "2  id10328  I booked this hotel through Hotwire at the low...   \n",
       "3  id10329  Stayed here with husband and sons on the way t...   \n",
       "4  id10330  My girlfriends and I stayed here to celebrate ...   \n",
       "5  id10331  We had - rooms. One was very nice and clearly ...   \n",
       "6  id10332  My husband and I have stayed in this hotel a f...   \n",
       "7  id10333  My wife & I stayed in this glorious city a whi...   \n",
       "8  id10334  My boyfriend and I stayed at the Fairmont on a...   \n",
       "9  id10335  Wonderful staff, great location, but it was de...   \n",
       "\n",
       "        Browser_Used Device_Used Is_Response  \n",
       "0               Edge      Mobile   not happy  \n",
       "1  Internet Explorer      Mobile   not happy  \n",
       "2            Mozilla      Tablet   not happy  \n",
       "3   InternetExplorer     Desktop       happy  \n",
       "4               Edge      Tablet   not happy  \n",
       "5   InternetExplorer     Desktop       happy  \n",
       "6            Firefox      Tablet   not happy  \n",
       "7      Google Chrome      Mobile       happy  \n",
       "8  Internet Explorer     Desktop       happy  \n",
       "9             Chrome      Tablet   not happy  "
      ]
     },
     "execution_count": 22,
     "metadata": {},
     "output_type": "execute_result"
    }
   ],
   "source": [
    "# Displaying first 10 records\n",
    "data.head(10)"
   ]
  },
  {
   "cell_type": "markdown",
   "metadata": {},
   "source": [
    "### Data Preprocessing"
   ]
  },
  {
   "cell_type": "code",
   "execution_count": 23,
   "metadata": {},
   "outputs": [],
   "source": [
    "# Changing Is_Response values from string to numeric\n",
    "data['Is_Response'] = np.where(data['Is_Response']=='not happy',0,1)"
   ]
  },
  {
   "cell_type": "code",
   "execution_count": 24,
   "metadata": {},
   "outputs": [],
   "source": [
    "# Dropping columns User_ID, Browser_Used and Device_Used as they are not used in text mining\n",
    "df = data.drop(columns=['User_ID', 'Browser_Used', 'Device_Used'])\n",
    "# Renaming the columns Description and Is_Response to review and label respectively\n",
    "df.columns = ['review', 'label']"
   ]
  },
  {
   "cell_type": "code",
   "execution_count": 25,
   "metadata": {},
   "outputs": [
    {
     "data": {
      "text/html": [
       "<div>\n",
       "<style scoped>\n",
       "    .dataframe tbody tr th:only-of-type {\n",
       "        vertical-align: middle;\n",
       "    }\n",
       "\n",
       "    .dataframe tbody tr th {\n",
       "        vertical-align: top;\n",
       "    }\n",
       "\n",
       "    .dataframe thead th {\n",
       "        text-align: right;\n",
       "    }\n",
       "</style>\n",
       "<table border=\"1\" class=\"dataframe\">\n",
       "  <thead>\n",
       "    <tr style=\"text-align: right;\">\n",
       "      <th></th>\n",
       "      <th>review</th>\n",
       "      <th>label</th>\n",
       "    </tr>\n",
       "  </thead>\n",
       "  <tbody>\n",
       "    <tr>\n",
       "      <th>0</th>\n",
       "      <td>The room was kind of clean but had a VERY stro...</td>\n",
       "      <td>0</td>\n",
       "    </tr>\n",
       "    <tr>\n",
       "      <th>1</th>\n",
       "      <td>I stayed at the Crown Plaza April -- - April -...</td>\n",
       "      <td>0</td>\n",
       "    </tr>\n",
       "    <tr>\n",
       "      <th>2</th>\n",
       "      <td>I booked this hotel through Hotwire at the low...</td>\n",
       "      <td>0</td>\n",
       "    </tr>\n",
       "    <tr>\n",
       "      <th>3</th>\n",
       "      <td>Stayed here with husband and sons on the way t...</td>\n",
       "      <td>1</td>\n",
       "    </tr>\n",
       "    <tr>\n",
       "      <th>4</th>\n",
       "      <td>My girlfriends and I stayed here to celebrate ...</td>\n",
       "      <td>0</td>\n",
       "    </tr>\n",
       "    <tr>\n",
       "      <th>5</th>\n",
       "      <td>We had - rooms. One was very nice and clearly ...</td>\n",
       "      <td>1</td>\n",
       "    </tr>\n",
       "    <tr>\n",
       "      <th>6</th>\n",
       "      <td>My husband and I have stayed in this hotel a f...</td>\n",
       "      <td>0</td>\n",
       "    </tr>\n",
       "    <tr>\n",
       "      <th>7</th>\n",
       "      <td>My wife &amp; I stayed in this glorious city a whi...</td>\n",
       "      <td>1</td>\n",
       "    </tr>\n",
       "    <tr>\n",
       "      <th>8</th>\n",
       "      <td>My boyfriend and I stayed at the Fairmont on a...</td>\n",
       "      <td>1</td>\n",
       "    </tr>\n",
       "    <tr>\n",
       "      <th>9</th>\n",
       "      <td>Wonderful staff, great location, but it was de...</td>\n",
       "      <td>0</td>\n",
       "    </tr>\n",
       "  </tbody>\n",
       "</table>\n",
       "</div>"
      ],
      "text/plain": [
       "                                              review  label\n",
       "0  The room was kind of clean but had a VERY stro...      0\n",
       "1  I stayed at the Crown Plaza April -- - April -...      0\n",
       "2  I booked this hotel through Hotwire at the low...      0\n",
       "3  Stayed here with husband and sons on the way t...      1\n",
       "4  My girlfriends and I stayed here to celebrate ...      0\n",
       "5  We had - rooms. One was very nice and clearly ...      1\n",
       "6  My husband and I have stayed in this hotel a f...      0\n",
       "7  My wife & I stayed in this glorious city a whi...      1\n",
       "8  My boyfriend and I stayed at the Fairmont on a...      1\n",
       "9  Wonderful staff, great location, but it was de...      0"
      ]
     },
     "execution_count": 25,
     "metadata": {},
     "output_type": "execute_result"
    }
   ],
   "source": [
    "# Displaying the first 10 records of the sliced dataset\n",
    "df.head(10)"
   ]
  },
  {
   "cell_type": "code",
   "execution_count": 26,
   "metadata": {},
   "outputs": [
    {
     "data": {
      "text/plain": [
       "(38932, 2)"
      ]
     },
     "execution_count": 26,
     "metadata": {},
     "output_type": "execute_result"
    }
   ],
   "source": [
    "# Information about the number of rows and columns in dataset (dimensions of dataset)\n",
    "df.shape"
   ]
  },
  {
   "cell_type": "code",
   "execution_count": 27,
   "metadata": {},
   "outputs": [
    {
     "data": {
      "text/plain": [
       "review    0\n",
       "label     0\n",
       "dtype: int64"
      ]
     },
     "execution_count": 27,
     "metadata": {},
     "output_type": "execute_result"
    }
   ],
   "source": [
    "# Check presence of missing values\n",
    "# The concept of missing values is important to understand in order to successfully manage data.\n",
    "# There is no missing or null value present in our dataset.\n",
    "\n",
    "df.isnull().sum()"
   ]
  },
  {
   "cell_type": "code",
   "execution_count": 28,
   "metadata": {},
   "outputs": [
    {
     "data": {
      "text/plain": [
       "1    26521\n",
       "0    12411\n",
       "Name: label, dtype: int64"
      ]
     },
     "execution_count": 28,
     "metadata": {},
     "output_type": "execute_result"
    }
   ],
   "source": [
    "# number of reviews for each sentiment value\n",
    "df.label.value_counts()"
   ]
  },
  {
   "cell_type": "markdown",
   "metadata": {},
   "source": [
    "### Visualization"
   ]
  },
  {
   "cell_type": "code",
   "execution_count": 29,
   "metadata": {},
   "outputs": [
    {
     "data": {
      "image/png": "[encoded data removed]",
      "text/plain": [
       "<Figure size 432x288 with 1 Axes>"
      ]
     },
     "metadata": {
      "needs_background": "light"
     },
     "output_type": "display_data"
    }
   ],
   "source": [
    "# Visualizing count of reviews by sentiment\n",
    "reviews_cnt = df.groupby('label').count()\n",
    "plt.bar(reviews_cnt.index.values, reviews_cnt['review'], tick_label=['Negative','Positive'])\n",
    "\n",
    "plt.xlabel('Review Sentiments')\n",
    "plt.ylabel('Number of Review')\n",
    "plt.show()"
   ]
  },
  {
   "cell_type": "markdown",
   "metadata": {},
   "source": [
    "### Text Analysis"
   ]
  },
  {
   "cell_type": "markdown",
   "metadata": {},
   "source": [
    "What percentage of the reviews in *data* are positive reviews?"
   ]
  },
  {
   "cell_type": "code",
   "execution_count": 30,
   "metadata": {},
   "outputs": [
    {
     "name": "stdout",
     "output_type": "stream",
     "text": [
      "Percentage of Positive reviews is  68.12133977190999\n"
     ]
    }
   ],
   "source": [
    "percent = len(df[df['label'] == 1]) / len(df) * 100\n",
    "print(\"Percentage of Positive reviews is \", percent)"
   ]
  },
  {
   "cell_type": "markdown",
   "metadata": {},
   "source": [
    "### Building the model"
   ]
  },
  {
   "cell_type": "code",
   "execution_count": 31,
   "metadata": {},
   "outputs": [],
   "source": [
    "from sklearn.model_selection import train_test_split\n",
    "\n",
    "# Split data into training and test sets\n",
    "X_train, X_test, y_train, y_test = train_test_split(df['review'], df['label'], random_state=0)"
   ]
  },
  {
   "cell_type": "code",
   "execution_count": 32,
   "metadata": {},
   "outputs": [
    {
     "name": "stdout",
     "output_type": "stream",
     "text": [
      "X_train first entry:\n",
      " It's been a few years since I was here, but it's still a very good place to stay for a business person. although it has some age,(like me) it still is in great shape, (unlike me). very nice staff, excellent managers reception, and the usual good job on breakfast. I'll be back my next trip to Columbus.\n",
      "\n",
      "X_train shape: (29199,)\n"
     ]
    }
   ],
   "source": [
    "print('X_train first entry:\\n', X_train.iloc[0])\n",
    "print('\\nX_train shape:', X_train.shape)"
   ]
  },
  {
   "cell_type": "markdown",
   "metadata": {},
   "source": [
    "### Count Vectorizer"
   ]
  },
  {
   "cell_type": "code",
   "execution_count": 33,
   "metadata": {},
   "outputs": [],
   "source": [
    "# Importing CountVectorizer\n",
    "from sklearn.feature_extraction.text import CountVectorizer\n",
    "\n",
    "# Fit the CountVectorizer to the training data\n",
    "vect = CountVectorizer().fit(X_train)"
   ]
  },
  {
   "cell_type": "code",
   "execution_count": 34,
   "metadata": {},
   "outputs": [
    {
     "data": {
      "text/plain": [
       "['__',\n",
       " 'arrangment',\n",
       " 'blower',\n",
       " 'channeled',\n",
       " 'conto',\n",
       " 'diabetes',\n",
       " 'encyclopedia',\n",
       " 'flier',\n",
       " 'grumble',\n",
       " 'incentivizing',\n",
       " 'laker',\n",
       " 'mcv',\n",
       " 'noisly',\n",
       " 'pensioners',\n",
       " 'purses',\n",
       " 'ricotta',\n",
       " 'shouted',\n",
       " 'stil',\n",
       " 'tilework',\n",
       " 'usua',\n",
       " 'yaneev']"
      ]
     },
     "execution_count": 34,
     "metadata": {},
     "output_type": "execute_result"
    }
   ],
   "source": [
    "# Display feature names (unique tokens)\n",
    "vect.get_feature_names()[::2000]"
   ]
  },
  {
   "cell_type": "code",
   "execution_count": 35,
   "metadata": {},
   "outputs": [
    {
     "data": {
      "text/plain": [
       "40297"
      ]
     },
     "execution_count": 35,
     "metadata": {},
     "output_type": "execute_result"
    }
   ],
   "source": [
    "# Display number of features generated\n",
    "len(vect.get_feature_names())"
   ]
  },
  {
   "cell_type": "code",
   "execution_count": 36,
   "metadata": {},
   "outputs": [],
   "source": [
    "# transform the documents in the training data to a document-term matrix\n",
    "X_train_vectorized = vect.transform(X_train)"
   ]
  },
  {
   "cell_type": "code",
   "execution_count": 37,
   "metadata": {},
   "outputs": [
    {
     "data": {
      "text/plain": [
       "LogisticRegression(C=1.0, class_weight=None, dual=False, fit_intercept=True,\n",
       "                   intercept_scaling=1, l1_ratio=None, max_iter=1000,\n",
       "                   multi_class='auto', n_jobs=None, penalty='l2',\n",
       "                   random_state=None, solver='lbfgs', tol=0.0001, verbose=0,\n",
       "                   warm_start=False)"
      ]
     },
     "execution_count": 37,
     "metadata": {},
     "output_type": "execute_result"
    }
   ],
   "source": [
    "# Import logisticRegression\n",
    "from sklearn.linear_model import LogisticRegression\n",
    "\n",
    "# Train the model\n",
    "model = LogisticRegression(max_iter=1000)\n",
    "model.fit(X_train_vectorized, y_train)"
   ]
  },
  {
   "cell_type": "code",
   "execution_count": 38,
   "metadata": {},
   "outputs": [
    {
     "name": "stdout",
     "output_type": "stream",
     "text": [
      "AUC:  0.8439483846573864\n"
     ]
    }
   ],
   "source": [
    "# Import roc_auc_score for model evaluation\n",
    "from sklearn.metrics import roc_auc_score\n",
    "\n",
    "# Predict the transformed test documents\n",
    "predictions = model.predict(vect.transform(X_test))\n",
    "\n",
    "print('AUC: ', roc_auc_score(y_test, predictions))"
   ]
  },
  {
   "cell_type": "code",
   "execution_count": 39,
   "metadata": {},
   "outputs": [
    {
     "name": "stdout",
     "output_type": "stream",
     "text": [
      "Smallest Coefs:\n",
      "['disgusting' 'ruined' 'impersonal' 'shabby' 'worst' 'upside' 'musty'\n",
      " 'rennovated' 'rude' 'dirty']\n",
      "\n",
      "Largest Coefs: \n",
      "['spotlessly' 'starts' 'terrific' 'beauty' 'gem' 'doable' 'chilly'\n",
      " 'gesture' 'breeze' 'def']\n"
     ]
    }
   ],
   "source": [
    "# get the feature names as numpy array\n",
    "feature_names = np.array(vect.get_feature_names())\n",
    "\n",
    "# Sort the coefficients from the model\n",
    "sorted_coef_index = model.coef_[0].argsort()\n",
    "\n",
    "# Find the 10 smallest and 10 largest coefficients\n",
    "# The 10 largest coefficients are being indexed using [:-11:-1] \n",
    "# so the list returned is in order of largest to smallest\n",
    "print('Smallest Coefs:\\n{}\\n'.format(feature_names[sorted_coef_index[:10]]))\n",
    "print('Largest Coefs: \\n{}'.format(feature_names[sorted_coef_index[:-11:-1]]))"
   ]
  },
  {
   "cell_type": "markdown",
   "metadata": {},
   "source": [
    "### TF-IDF Vectorizer\n",
    "TF-IDF(Term Frequency-Inverse Document Frequency) normalizes the document term matrix. It is the product of TF and IDF. Word with high tf-idf in a document, it is most of the times occurred in given documents and must be absent in the other documents. So the words must be a signature word."
   ]
  },
  {
   "cell_type": "code",
   "execution_count": 40,
   "metadata": {},
   "outputs": [
    {
     "data": {
      "text/plain": [
       "12827"
      ]
     },
     "execution_count": 40,
     "metadata": {},
     "output_type": "execute_result"
    }
   ],
   "source": [
    "# Import TfidfVectorizer\n",
    "from sklearn.feature_extraction.text import TfidfVectorizer\n",
    "\n",
    "# Fit the TfidfVectorizer to the training data specifiying a minimum document frequency of 5\n",
    "vect = TfidfVectorizer(min_df=5).fit(X_train)\n",
    "len(vect.get_feature_names())"
   ]
  },
  {
   "cell_type": "code",
   "execution_count": 41,
   "metadata": {},
   "outputs": [
    {
     "name": "stdout",
     "output_type": "stream",
     "text": [
      "AUC:  0.8578540479163018\n"
     ]
    }
   ],
   "source": [
    "X_train_vectorized = vect.transform(X_train)\n",
    "\n",
    "# Train the model\n",
    "model = LogisticRegression()\n",
    "model.fit(X_train_vectorized, y_train)\n",
    "\n",
    "predictions = model.predict(vect.transform(X_test))\n",
    "\n",
    "# Display the accuracy score\n",
    "print('AUC: ', roc_auc_score(y_test, predictions))"
   ]
  },
  {
   "cell_type": "code",
   "execution_count": 42,
   "metadata": {},
   "outputs": [
    {
     "name": "stdout",
     "output_type": "stream",
     "text": [
      "Smallest tfidf:\n",
      "['screening' 'teach' 'percentage' 'disbelief' 'lightly' 'resigned'\n",
      " 'pursue' 'irrelevant' 'mighty' 'curling']\n",
      "\n",
      "Largest tfidf: \n",
      "['great' 'impeccable' 'thump' 'outstanding' 'diane' 'average' 'hotspots'\n",
      " 'accomadating' 'wonderfull' 'stayin']\n"
     ]
    }
   ],
   "source": [
    "# get the feature names as numpy array\n",
    "feature_names = np.array(vect.get_feature_names())\n",
    "\n",
    "# Sort the coefficients from the vectorizer\n",
    "sorted_tfidf_index = X_train_vectorized.max(0).toarray()[0].argsort()\n",
    "\n",
    "# Find the 10 smallest and 10 largest coefficients\n",
    "print('Smallest tfidf:\\n{}\\n'.format(feature_names[sorted_tfidf_index[:10]]))\n",
    "print('Largest tfidf: \\n{}'.format(feature_names[sorted_tfidf_index[:-11:-1]]))"
   ]
  },
  {
   "cell_type": "code",
   "execution_count": 43,
   "metadata": {},
   "outputs": [
    {
     "name": "stdout",
     "output_type": "stream",
     "text": [
      "Smallest Coefs:\n",
      "['not' 'dirty' 'rude' 'old' 'ok' 'no' 'worst' 'nothing' 'told' 'average']\n",
      "\n",
      "Largest Coefs: \n",
      "['great' 'excellent' 'perfect' 'comfortable' 'wonderful' 'loved' 'amazing'\n",
      " 'spacious' 'quiet' 'definitely']\n"
     ]
    }
   ],
   "source": [
    "# Sort the coefficients from the model\n",
    "sorted_coef_index = model.coef_[0].argsort()\n",
    "\n",
    "# Find the 10 smallest and 10 largest coefficients\n",
    "print('Smallest Coefs:\\n{}\\n'.format(feature_names[sorted_coef_index[:10]]))\n",
    "print('Largest Coefs: \\n{}'.format(feature_names[sorted_coef_index[:-11:-1]]))"
   ]
  },
  {
   "cell_type": "code",
   "execution_count": 44,
   "metadata": {},
   "outputs": [
    {
     "name": "stdout",
     "output_type": "stream",
     "text": [
      "[1 1]\n"
     ]
    }
   ],
   "source": [
    "# These reviews are treated the same by our current model\n",
    "print(model.predict(vect.transform(['not an issue, the room is great', 'an issue, room is not great'])))"
   ]
  },
  {
   "cell_type": "markdown",
   "metadata": {},
   "source": [
    "### Bag of Words (n-grams)\n",
    "This matrix is using a single word. It can be a combination of two or more words, which is called a bigram or trigram model and the general approach is called the n-gram model.\n",
    "\n",
    "You can generate document term matrix by using scikit-learn's CountVectorizer."
   ]
  },
  {
   "cell_type": "code",
   "execution_count": 45,
   "metadata": {},
   "outputs": [
    {
     "data": {
      "text/plain": [
       "204084"
      ]
     },
     "execution_count": 45,
     "metadata": {},
     "output_type": "execute_result"
    }
   ],
   "source": [
    "# Fit the CountVectorizer to the training data specifiying a minimum document frequency of 5 and extracting 1-grams and 2-grams\n",
    "vect = CountVectorizer(min_df=5, ngram_range=(1,3)).fit(X_train)\n",
    "\n",
    "X_train_vectorized = vect.transform(X_train)\n",
    "\n",
    "len(vect.get_feature_names())"
   ]
  },
  {
   "cell_type": "code",
   "execution_count": 46,
   "metadata": {},
   "outputs": [
    {
     "name": "stdout",
     "output_type": "stream",
     "text": [
      "AUC:  0.8637141172686902\n"
     ]
    }
   ],
   "source": [
    "# Training the model\n",
    "model = LogisticRegression(max_iter=500)\n",
    "model.fit(X_train_vectorized, y_train)\n",
    "\n",
    "predictions = model.predict(vect.transform(X_test))\n",
    "\n",
    "# Display the accuracy score\n",
    "print('AUC: ', roc_auc_score(y_test, predictions))"
   ]
  },
  {
   "cell_type": "code",
   "execution_count": 47,
   "metadata": {},
   "outputs": [
    {
     "name": "stdout",
     "output_type": "stream",
     "text": [
      "Smallest Coefs:\n",
      "['rude' 'dirty' 'not great' 'terrible' 'disgusting' 'worst' 'average'\n",
      " 'nothing' 'poor' 'outdated']\n",
      "\n",
      "Largest Coefs: \n",
      "['perfect' 'excellent' 'outstanding' 'very clean' 'wonderful' 'loved'\n",
      " 'amazing' 'definitely stay' 'fantastic' 'beautiful']\n"
     ]
    }
   ],
   "source": [
    "# get the feature names as numpy array\n",
    "feature_names = np.array(vect.get_feature_names())\n",
    "\n",
    "# Sort the coefficients from the model\n",
    "sorted_coef_index = model.coef_[0].argsort()\n",
    "\n",
    "# Find the 10 smallest and 10 largest coefficients\n",
    "print('Smallest Coefs:\\n{}\\n'.format(feature_names[sorted_coef_index[:10]]))\n",
    "print('Largest Coefs: \\n{}'.format(feature_names[sorted_coef_index[:-11:-1]]))"
   ]
  },
  {
   "cell_type": "code",
   "execution_count": 48,
   "metadata": {},
   "outputs": [
    {
     "name": "stdout",
     "output_type": "stream",
     "text": [
      "[1 0]\n"
     ]
    }
   ],
   "source": [
    "# These reviews are now correctly identified\n",
    "print(model.predict(vect.transform(['not an issue, room is great',\n",
    "                                    'an issue, room is not great'])))"
   ]
  },
  {
   "cell_type": "markdown",
   "metadata": {},
   "source": [
    "### Summary"
   ]
  },
  {
   "cell_type": "markdown",
   "metadata": {},
   "source": [
    "In this project, we saw an overview of Text Analysis and steps involved in it. We learnt about the concept of sentiment analysis and implemented it over the dataset of Hotel Reviews. We were able to delineate it through various visualizations after we performed data wrangling on our data. We used a CountVectorizer and TF-IDF instances in our project. Furthermore, we were also able to correctly classify text sentiment."
   ]
  },
  {
   "cell_type": "code",
   "execution_count": null,
   "metadata": {},
   "outputs": [],
   "source": []
  }
 ],
 "metadata": {
  "kernelspec": {
   "display_name": "Python 3",
   "language": "python",
   "name": "python3"
  },
  "language_info": {
   "codemirror_mode": {
    "name": "ipython",
    "version": 3
   },
   "file_extension": ".py",
   "mimetype": "text/x-python",
   "name": "python",
   "nbconvert_exporter": "python",
   "pygments_lexer": "ipython3",
   "version": "3.7.7"
  }
 },
 "nbformat": 4,
 "nbformat_minor": 4
}
